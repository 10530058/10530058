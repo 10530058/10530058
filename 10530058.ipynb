{
 "cells": [
  {
   "cell_type": "code",
   "execution_count": 2,
   "metadata": {},
   "outputs": [
    {
     "ename": "SyntaxError",
     "evalue": "invalid syntax (<ipython-input-2-6af363638219>, line 5)",
     "output_type": "error",
     "traceback": [
      "\u001b[0;36m  File \u001b[0;32m\"<ipython-input-2-6af363638219>\"\u001b[0;36m, line \u001b[0;32m5\u001b[0m\n\u001b[0;31m    def  __init__(self,x);\u001b[0m\n\u001b[0m                         ^\u001b[0m\n\u001b[0;31mSyntaxError\u001b[0m\u001b[0;31m:\u001b[0m invalid syntax\n"
     ]
    }
   ],
   "source": [
    "import numpy as np\n",
    "import matplotib.pyplot as plt\n",
    "\n",
    "class a10530058:\n",
    "    def  __init__(self,x);\n",
    "        self.x=np.arange(0, 6, 0.1)\n",
    "    def sin(self):\n",
    "        y= np.sin(self.x)\n",
    "        plt.plot(self.x,y)\n",
    "        plt.show()\n",
    "    def cos(self):\n",
    "        y= np.cos(self.x)\n",
    "        plt.plot(self.x,y)\n",
    "        plt.show()"
   ]
  },
  {
   "cell_type": "code",
   "execution_count": null,
   "metadata": {},
   "outputs": [],
   "source": []
  }
 ],
 "metadata": {
  "kernelspec": {
   "display_name": "Python 3",
   "language": "python",
   "name": "python3"
  },
  "language_info": {
   "codemirror_mode": {
    "name": "ipython",
    "version": 3
   },
   "file_extension": ".py",
   "mimetype": "text/x-python",
   "name": "python",
   "nbconvert_exporter": "python",
   "pygments_lexer": "ipython3",
   "version": "3.6.6"
  }
 },
 "nbformat": 4,
 "nbformat_minor": 2
}
